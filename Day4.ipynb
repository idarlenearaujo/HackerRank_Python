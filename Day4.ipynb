{
 "cells": [
  {
   "cell_type": "code",
   "execution_count": 2,
   "metadata": {
    "scrolled": true
   },
   "outputs": [
    {
     "name": "stdout",
     "output_type": "stream",
     "text": [
      "2\n",
      "-3\n",
      "Age is not valid, setting age to 0.\n",
      "You are young.\n",
      "You are young.\n",
      "5\n",
      "You are young.\n",
     ]
    }
   ],
   "source": [
    "class Person:\n",
    "    def __init__(self,initialAge):\n",
    "        \n",
    "        # se age < 0 \n",
    "        # print Age is not valid, setting age to 0.\n",
    "        # e seta nova age = 0\n",
    "        if initialAge < 0:\n",
    "            print('Age is not valid, setting age to 0.')\n",
    "            self._age = 0\n",
    "        # se > 0 age = initialAge\n",
    "        else:\n",
    "            self._age = initialAge\n",
    "        \n",
    "    def amIOld(self):\n",
    "        # classificacao\n",
    "        if self._age < 13:  \n",
    "            print('You are young.')\n",
    "        elif 12 < self._age < 18:\n",
    "            print('You are a teenager.')\n",
    "        elif self._age >= 18:\n",
    "            print('You are old.')\n",
    "\n",
    "    def yearPasses(self):\n",
    "        # idade + 1\n",
    "        self._age = self._age + 1"
   ]
  },
  {
   "cell_type": "code",
   "execution_count": null,
   "metadata": {},
   "outputs": [],
   "source": []
  }
 ],
 "metadata": {
  "kernelspec": {
   "display_name": "Python 3",
   "language": "python",
   "name": "python3"
  },
  "language_info": {
   "codemirror_mode": {
    "name": "ipython",
    "version": 3
   },
   "file_extension": ".py",
   "mimetype": "text/x-python",
   "name": "python",
   "nbconvert_exporter": "python",
   "pygments_lexer": "ipython3",
   "version": "3.6.4"
  }
 },
 "nbformat": 4,
 "nbformat_minor": 2
}
