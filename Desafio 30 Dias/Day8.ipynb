{
 "cells": [
  {
   "cell_type": "code",
   "execution_count": 34,
   "metadata": {},
   "outputs": [
    {
     "name": "stdout",
     "output_type": "stream",
     "text": [
      "3\n",
      "sam 99912222\n",
      "tom 11122222\n",
      "harry 12299933\n",
      "sam\n",
      "sam=99912222 \n",
      "edward\n",
      "Not found\n",
      "harry\n",
      "harry=12299933 \n"
     ]
    }
   ],
   "source": [
    "phoneBook = {}\n",
    "n = 0\n",
    "\n",
    "# quantidade de itens \n",
    "N = int(input())\n",
    "\n",
    "# nome e telefone\n",
    "for _ in range(N):\n",
    "    nome, telefone = map(str, input().split())\n",
    "    phoneBook[nome.lower()] = int(telefone)\n",
    "\n",
    "# nome a ser procurado\n",
    "while n < N:\n",
    "\n",
    "    pesquisa = str(input())\n",
    "\n",
    "    if pesquisa in phoneBook.keys():\n",
    "        print('{}={} '.format(pesquisa, phoneBook.get(pesquisa)))\n",
    "    else:\n",
    "        print('Not found')\n",
    "   \n",
    "    n += 1"
   ]
  },
  {
   "cell_type": "code",
   "execution_count": null,
   "metadata": {},
   "outputs": [],
   "source": []
  }
 ],
 "metadata": {
  "kernelspec": {
   "display_name": "Python 3",
   "language": "python",
   "name": "python3"
  },
  "language_info": {
   "codemirror_mode": {
    "name": "ipython",
    "version": 3
   },
   "file_extension": ".py",
   "mimetype": "text/x-python",
   "name": "python",
   "nbconvert_exporter": "python",
   "pygments_lexer": "ipython3",
   "version": "3.6.4"
  }
 },
 "nbformat": 4,
 "nbformat_minor": 2
}
