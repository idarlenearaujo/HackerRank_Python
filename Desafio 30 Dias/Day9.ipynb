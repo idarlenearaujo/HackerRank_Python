{
 "cells": [
  {
   "cell_type": "code",
   "execution_count": null,
   "metadata": {},
   "outputs": [],
   "source": [
    "#!/bin/python3\n",
    "import sys\n",
    "\n",
    "def factorial(n):\n",
    "    # se n = 0\n",
    "    if n == 0:\n",
    "        return 0\n",
    "    # se n = 1\n",
    "    if n == 1:\n",
    "        return 1\n",
    "    # se n > 1 recursivo\n",
    "    if n > 1:\n",
    "        return factorial(n - 1) * n\n",
    "\n",
    "if __name__ == \"__main__\":\n",
    "    n = int(input().strip())\n",
    "    result = factorial(n)\n",
    "    print(result)"
   ]
  }
 ],
 "metadata": {
  "kernelspec": {
   "display_name": "Python 3",
   "language": "python",
   "name": "python3"
  },
  "language_info": {
   "codemirror_mode": {
    "name": "ipython",
    "version": 3
   },
   "file_extension": ".py",
   "mimetype": "text/x-python",
   "name": "python",
   "nbconvert_exporter": "python",
   "pygments_lexer": "ipython3",
   "version": "3.6.4"
  }
 },
 "nbformat": 4,
 "nbformat_minor": 2
}
