{
 "cells": [
  {
   "cell_type": "code",
   "execution_count": null,
   "metadata": {},
   "outputs": [],
   "source": [
    "#!/bin/python3\n",
    "import sys\n",
    "\n",
    "# entrada e transformacao do int em boolean\n",
    "n = int(input().strip())\n",
    "n = list(bin(n)[2:])\n",
    "\n",
    "# variaveis\n",
    "p , soma = 0, 1\n",
    "\n",
    "# percorrer o binario\n",
    "for i in n:\n",
    "    \n",
    "    if p == 0:        \n",
    "        p = 1\n",
    "        \n",
    "    else:\n",
    "        if first == i:\n",
    "            soma += int(i)\n",
    "        else:\n",
    "            p = 0\n",
    "            \n",
    "    first = i\n",
    "    \n",
    "print(soma)"
   ]
  }
 ],
 "metadata": {
  "kernelspec": {
   "display_name": "Python 3",
   "language": "python",
   "name": "python3"
  },
  "language_info": {
   "codemirror_mode": {
    "name": "ipython",
    "version": 3
   },
   "file_extension": ".py",
   "mimetype": "text/x-python",
   "name": "python",
   "nbconvert_exporter": "python",
   "pygments_lexer": "ipython3",
   "version": "3.6.4"
  }
 },
 "nbformat": 4,
 "nbformat_minor": 2
}
